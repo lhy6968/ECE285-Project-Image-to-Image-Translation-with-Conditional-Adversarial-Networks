{
  "cells": [
    {
      "cell_type": "code",
      "execution_count": null,
      "metadata": {
        "id": "sDQQOk5rRHQ2"
      },
      "outputs": [],
      "source": [
        "#! unzip /content/drive/MyDrive/ece285_final_project/lihuayue_575cec0b.zip -d /content/drive/MyDrive/ece285_final_project"
      ]
    },
    {
      "cell_type": "code",
      "execution_count": null,
      "metadata": {
        "id": "csygJzLnz3iY"
      },
      "outputs": [],
      "source": [
        "import sys\n",
        "sys.path.append(\"/content/drive/MyDrive/ece285_final_project\")"
      ]
    },
    {
      "cell_type": "code",
      "execution_count": null,
      "metadata": {
        "id": "x-IQSIw70vvq"
      },
      "outputs": [],
      "source": [
        "from save_model import handle_model\n",
        "from train import train_model\n",
        "from dataset import GanDataset"
      ]
    },
    {
      "cell_type": "code",
      "execution_count": null,
      "metadata": {
        "id": "tnsLb8yU0PiF"
      },
      "outputs": [],
      "source": [
        "learning_rate = 0.0002\n",
        "batch_size = 16\n",
        "num_epochs = 200"
      ]
    },
    {
      "cell_type": "code",
      "execution_count": null,
      "metadata": {
        "id": "_RFXWOiW0ffZ"
      },
      "outputs": [],
      "source": [
        "new_or_old_dataset = \"old\"\n",
        "if new_or_old_dataset == \"new\":\n",
        "    val_dataset = GanDataset(\"/content/drive/MyDrive/ece285_final_project/ADE20K_2021_17_01\", \"val\")\n",
        "    train_dataset = GanDataset(\"/content/drive/MyDrive/ece285_final_project/ADE20K_2021_17_01\", \"train\")\n",
        "    val_dataset.load_data()\n",
        "    train_dataset.load_data()\n",
        "    handle_model(\"/content/drive/MyDrive/ece285_final_project/val_dataset.pkl\", \"save\", val_dataset)\n",
        "    handle_model(\"/content/drive/MyDrive/ece285_final_project/train_dataset.pkl\", \"save\", train_dataset)\n",
        "else:\n",
        "    train_dataset = handle_model(\"/content/drive/MyDrive/ece285_final_project/train_dataset.pkl\", \"pick\")\n",
        "    val_dataset = handle_model(\"/content/drive/MyDrive/ece285_final_project/val_dataset.pkl\",\"pick\")\n",
        "    print(len(train_dataset.dataset))\n",
        "    print(len(train_dataset.labels))"
      ]
    },
    {
      "cell_type": "code",
      "execution_count": null,
      "metadata": {
        "id": "v1Fsx-1-ZPrq"
      },
      "outputs": [],
      "source": [
        "save_model_or_not = True\n",
        "load_model_or_not = True\n",
        "eval_model_dict = \"/content/drive/MyDrive/ece285_final_project/eval_result_collection\"\n",
        "load_gen_dict = \"/content/drive/MyDrive/ece285_final_project/generator.pkl\"\n",
        "load_dis_dict = \"/content/drive/MyDrive/ece285_final_project/discriminator.pkl\"\n",
        "save_gen_dict = \"/content/drive/MyDrive/ece285_final_project/generator.pkl\"\n",
        "save_dis_dict = \"/content/drive/MyDrive/ece285_final_project/discriminator.pkl\""
      ]
    },
    {
      "cell_type": "code",
      "execution_count": null,
      "metadata": {
        "id": "JADgEuAPZQ4T"
      },
      "outputs": [],
      "source": [
        "train_model(learning_rate,batch_size,num_epochs,train_dataset,val_dataset,save_model_or_not,load_model_or_not,eval_model_dict,load_gen_dict,load_dis_dict,save_gen_dict,save_dis_dict)"
      ]
    },
    {
      "cell_type": "code",
      "source": [
        "import torch\n",
        "import torch.nn as nn\n",
        "import torch.optim as optim\n",
        "from torch.utils.data import DataLoader\n",
        "from discriminator import Discriminator\n",
        "from generator import Generator\n",
        "from tqdm import tqdm\n",
        "from eval import evaluate\n",
        "from save_model import handle_model\n",
        "from PIL import Image\n",
        "import random\n",
        "device = torch.device('cuda' if torch.cuda.is_available() else 'cpu')\n",
        "generator = Generator(3, 3)\n",
        "generator.load_state_dict(torch.load(load_gen_dict))\n",
        "generator.to(device)\n",
        "for param in generator.parameters():\n",
        "  param.to(device)\n",
        "val_dataloader = DataLoader(val_dataset, batch_size=batch_size, shuffle=True)\n",
        "original_output_list, target_output_list, eval_output_list = evaluate(generator,val_dataloader)\n",
        "\n",
        "for idx in range(len(target_output_list)):\n",
        "  print(idx)\n",
        "  target_output = target_output_list[idx]\n",
        "  eval_output = eval_output_list[idx]\n",
        "  original_output = original_output_list[idx]\n",
        "  eval_output += 1\n",
        "  eval_output *= 127.5\n",
        "  original_output += 1\n",
        "  original_output *= 127.5\n",
        "  original_image = Image.fromarray(original_output.byte().permute(1, 2, 0).cpu().numpy(), mode='RGB')\n",
        "  target_image = Image.fromarray(target_output.byte().permute(1, 2, 0).cpu().numpy(), mode='RGB')\n",
        "  eval_image = Image.fromarray(eval_output.byte().permute(1, 2, 0).cpu().numpy(), mode='RGB')\n",
        "  target_path = eval_model_dict + (\"/%d_target.png\")%(idx)\n",
        "  eval_path = eval_model_dict + (\"/%d_eval.png\")%(idx)\n",
        "  original_path = eval_model_dict + (\"/%d_original.png\")%(idx)\n",
        "  target_image.save(target_path)\n",
        "  eval_image.save(eval_path)\n",
        "  original_image.save(original_path)"
      ],
      "metadata": {
        "id": "6i3xKDb-JQyM"
      },
      "execution_count": null,
      "outputs": []
    }
  ],
  "metadata": {
    "accelerator": "GPU",
    "colab": {
      "machine_shape": "hm",
      "provenance": []
    },
    "kernelspec": {
      "display_name": "Python 3",
      "name": "python3"
    },
    "language_info": {
      "name": "python"
    }
  },
  "nbformat": 4,
  "nbformat_minor": 0
}